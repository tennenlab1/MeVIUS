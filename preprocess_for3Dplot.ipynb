{
 "cells": [
  {
   "cell_type": "code",
   "execution_count": 2,
   "id": "a76529d6",
   "metadata": {},
   "outputs": [],
   "source": [
    "import pandas as pd\n",
    "import numpy as np\n",
    "import glob"
   ]
  },
  {
   "cell_type": "code",
   "execution_count": null,
   "id": "26bf8cb7",
   "metadata": {},
   "outputs": [],
   "source": [
    "#step5\n",
    "#processes described below are done after creating directories for each taxonomic class\n",
    "import os\n",
    "import shutil\n",
    "\n",
    "#combine all UNIQUE METABOLITE FILEs into one file for each taxonomic class of the producing bacteria\n",
    "data_list1=[]\n",
    "count = 0\n",
    "for ap1 in glob.iglob('UNIQUE METABOLITE FILE in UNIQUE METABOLITE FORDER'):\n",
    "    basename = os.path.splitext(os.path.basename(ap1))[0]\n",
    "    basename_without = basename.rstrip('_plusonly_delback')\n",
    "    df_ap1 = pd.read_csv(ap1)\n",
    "    df_ap1['sample'] = basename_without\n",
    "    data_list1.append(df_ap1)\n",
    "\n",
    "#combine all INDUCED METABOLITE FILEs into one file for each taxonomic class of the producing bacteria\n",
    "for ap2 in glob.iglob('INDUCED METABOLITE FILES in INDUCED METABOLITE FOLDER'):\n",
    "    basename = os.path.splitext(os.path.basename(ap2))[0]\n",
    "    basename_without = basename.rstrip('_ratio_delback')\n",
    "    df_ap2 = pd.read_csv(ap2)\n",
    "    df_ap2['sample'] = basename_without\n",
    "    data_list1.append(df_ap2)\n",
    "\n",
    "#combine df_ap1&df_ap2\n",
    "df_all = pd.concat(data_list1)\n",
    "df_all = df_all.drop('Unnamed: 0', axis=1)\n",
    "df_all['species'] = 0 \n",
    "df_all.to_csv('ALL SELECTED METABOLITE FILE',index=None)"
   ]
  },
  {
   "cell_type": "code",
   "execution_count": null,
   "id": "326db314",
   "metadata": {},
   "outputs": [],
   "source": [
    "#step6\n",
    "#count the number of duplicates for each metabolite\n",
    "df_all = pd.read_csv('ALL SELECTED METABOLITE FILE')\n",
    "\n",
    "list=[]\n",
    "list2=[]\n",
    "for df_i in df_all.itertuples():\n",
    "    count =0\n",
    "    for df_ii in df_all.itertuples():\n",
    "        if df_ii[1]-0.2<=df_i[1]<=df_ii[1]+0.2 and df_ii[2]-0.2<=df_i[2]<=df_ii[2]+0.2:\n",
    "            count +=1\n",
    "    list.append(df_i)\n",
    "    list2.append(count)\n",
    "            \n",
    "df2 = pd.DataFrame(list)\n",
    "df3 = pd.DataFrame(list2, columns=['count'])\n",
    "df4 = pd.concat([df3,df2],axis=1)   \n",
    "df5.to_csv('ALL SELECTED METABOLITE FILE with duplicate counts',index=None)"
   ]
  },
  {
   "cell_type": "code",
   "execution_count": null,
   "id": "67380c1c",
   "metadata": {},
   "outputs": [],
   "source": [
    "#combine all ALL SELECTED METABOLITE FILE of each taxonomic class\n",
    "import os\n",
    "import shutil\n",
    "data_list=[]\n",
    "for ap in glob.iglob('/*/ALL SELECTED METABOLITE FILE with duplicate counts'): # * indicates each taxonomic class directory\n",
    "    df_ap = pd.read_csv(ap)\n",
    "    data_list.append(df_ap)\n",
    "df_all = pd.concat(data_list)\n",
    "df_all = df_all.drop('Unnamed: 0', axis=1)\n",
    "df_all.to_csv('HIT CANDIDATE FILE',index=None)"
   ]
  }
 ],
 "metadata": {
  "kernelspec": {
   "display_name": "Python 3 (ipykernel)",
   "language": "python",
   "name": "python3"
  },
  "language_info": {
   "codemirror_mode": {
    "name": "ipython",
    "version": 3
   },
   "file_extension": ".py",
   "mimetype": "text/x-python",
   "name": "python",
   "nbconvert_exporter": "python",
   "pygments_lexer": "ipython3",
   "version": "3.9.12"
  }
 },
 "nbformat": 4,
 "nbformat_minor": 5
}
